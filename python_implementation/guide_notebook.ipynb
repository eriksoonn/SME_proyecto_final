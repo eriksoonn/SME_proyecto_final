{
 "cells": [
  {
   "cell_type": "markdown",
   "metadata": {},
   "source": [
    "Author: Erik Aranburu Oregi  \n",
    "Date: 2024/11/3\n",
    "\n",
    "# Implementación de Funciones para Software Matemático y Estadístico\n",
    "\n",
    "## Introducción\n",
    "\n",
    "Este proyecto tiene como objetivo desarrollar una serie de funciones en Python para el análisis y procesamiento de datos, siguiendo las especificaciones detalladas en el enunciado de Egela. Las funciones implementadas cubren técnicas de discretización, cálculo de métricas, normalización, filtrado de variables y visualización, y están diseñadas para operar sin el uso de bibliotecas externas que ya realicen estas tareas.\n",
    "\n",
    "La implementación se ha organizado en 7 archivos de código, cada uno con funciones específicas para cada tarea concreta. Para verificar la funcionalidad de estas implementaciones, se han creado 7 archivos de pruebas unitarias (uno para cada módulo), los cuales prueban el comportamiento de cada función en distintos casos y aseguran que operen correctamente bajo diferentes escenarios de entrada.\n",
    "\n",
    "Para visualizar las graficas es necesario tener instalado la libreria `matplotlib`\n",
    "\n",
    "A continuación, se describe brevemente cada archivo de código y su correspondiente archivo de pruebas.\n",
    "\n",
    "## Implementaciones\n",
    "\n",
    "1. **dataframe.py**: Gestiona operaciones y transformaciones básicas en el dataset para asegurar su formato correcto y adecuado para análisis.\n",
    "\n",
    "2. **discretize.py**: Implementa algoritmos de discretización para atributos individuales y datasets completos, incluyendo métodos de igual frecuencia e igual anchura.\n",
    "\n",
    "3. **metrics.py**: Incluye funciones para calcular métricas de atributos, como la varianza, el AUC para variables continuas, y la entropía para variables discretas.\n",
    "\n",
    "4. **normalize.py**: Implementa métodos de normalización y estandarización de variables, aplicables tanto a atributos individuales como al dataset completo.\n",
    "\n",
    "5. **filter.py**: Permite filtrar variables del dataset basándose en métricas calculadas, como entropía o varianza, de acuerdo a umbrales especificados.\n",
    "\n",
    "6. **correlation.py**: Contiene funciones para calcular la correlación entre variables en un dataset. Si las variables son categóricas, calcula la información mutua.\n",
    "\n",
    "7. **visualization.py**: Contiene funciones de visualización, especialmente útiles para representar el AUC y las matrices de correlación o información mutua.\n",
    "\n",
    "\n",
    "## Tests Implementados\n",
    "\n",
    "Los tests unitarios han sido diseñados para validar el correcto funcionamiento de cada archivo. Cada test asegura que las funciones en los archivos correspondientes operen según lo esperado con diferentes entradas y escenarios.\n",
    "\n",
    "- **correlation_test.py**: Valida el cálculo de correlación y de información mutua entre variables.\n",
    "- **dataframe_test.py**: Verifica la correcta gestión y transformación del dataset.\n",
    "- **discretize_test.py**: Prueba los algoritmos de discretización para asegurar que dividan los datos correctamente según los métodos de igual frecuencia e igual anchura.\n",
    "- **filter_test.py**: Testea el filtrado de variables basado en métricas como la entropía y la varianza.\n",
    "- **metrics_test.py**: Comprueba el cálculo de métricas, incluyendo varianza, AUC y entropía.\n",
    "- **normalize_test.py**: Asegura que las funciones de normalización y estandarización operen de manera adecuada tanto para variables individuales como para el dataset completo.\n",
    "- **visualization_test.py**: Valida las funciones de visualización, incluyendo gráficos de AUC y matrices de correlación/información mutua.\n",
    "\n",
    "## Funciones Adicionales Implementadas\n",
    "\n",
    "Como mejoras a las funcionalidades del proyecto original, se han añadido las siguientes capacidades adicionales en el análisis de datos:\n",
    "\n",
    "1.  **Diseño de objetos para la gestión de datasets y funciones de lectura y escritura**\\\n",
    "    Se ha implementado un diseño orientado a objetos (utilizando S3 o S4) para gestionar los datasets de manera estructurada, mediante la creación de una clase denominada `DataFrame` en el archivo `dataframe.py`. Esto facilita la manipulación de datos, permitiendo manejo estandarizado a las operaciones de entrada y salida.\n",
    "\n",
    "2.  **Nuevos métodos de discretización**\\\n",
    "    Se han incorporado dos métodos adicionales de discretización, basados en k-means y cuantiles, que se añaden a los métodos tradicionales de igual frecuencia y igual anchura.\n",
    "\n",
    "3.  **Ampliación de opciones de visualización**\\\n",
    "    Se han desarrollado nuevas funciones de visualización, incluyendo diagramas de cajas para características (estandarizables o no) y un histograma de entropía por variables. Estas visualizaciones adicionales facilitan el análisis de la distribución y variabilidad de los datos y permiten observar la entropía asociada a cada variable de forma gráfica.\n",
    "\n",
    "4.  **Lectura y escritura de datasets en múltiples formatos**\\\n",
    "    Se ha habilitado la lectura y escritura de datasets en diferentes (CSV, TXT) y se ha agregado soporte para un formato propio. Esto aumenta la flexibilidad en el intercambio y almacenamiento de datos."
   ]
  },
  {
   "cell_type": "markdown",
   "metadata": {},
   "source": [
    "## 1.DataFrame\n",
    "\n",
    "### Enunciado\n",
    "Clase para la manipulación y gestión de un `data.frame` personalizado, que permite añadir y acceder a columnas, verificar si está vacío y exportar o importar datos en formato CSV y TXT.\n",
    "\n",
    "### Métodos Implementados\n",
    "\n",
    "---\n",
    "\n",
    "##### `__init__(datos: dict[str, list])`\n",
    "**Descripción:** Constructor para inicializar el `data.frame` personalizado.\n",
    "\n",
    "**Definición:**\n",
    "```python\n",
    "__init__(datos: dict[str, list])\n",
    "'''\n",
    "Constructor para inicializar el data.frame personalizado.\n",
    "Parameters:\n",
    "    datos: (dict[str, list]) Diccionario que representa el data.frame, donde las llaves son nombres de columnas y los valores son listas con datos de cada columna.\n",
    "'''\n",
    "```\n",
    "**Ejemplo de uso:**\n"
   ]
  },
  {
   "cell_type": "code",
   "execution_count": 97,
   "metadata": {},
   "outputs": [
    {
     "name": "stdout",
     "output_type": "stream",
     "text": [
      "1 | 4\n",
      "2 | 5\n",
      "3 | 6\n"
     ]
    }
   ],
   "source": [
    "from dataframe import DataFrame\n",
    "\n",
    "df = DataFrame({'col1': [1, 2, 3], 'col2': [4, 5, 6]})\n",
    "print(df)"
   ]
  },
  {
   "cell_type": "markdown",
   "metadata": {},
   "source": [
    "##### `agregar_columna(nombre_columna: str, valores: list) -> None`\n",
    "**Descripción:** Añade una nueva columna al data.frame.\n",
    "\n",
    "**Definición:**\n",
    "```python\n",
    "agregar_columna(nombre_columna: str, valores: list) -> None\n",
    "'''\n",
    "Método para añadir una columna al data.frame.\n",
    "Parameters:\n",
    "    nombre_columna: (str) Nombre de la nueva columna.\n",
    "    valores: (list) Lista de valores para la columna.\n",
    "Return:\n",
    "    None\n",
    "Exceptions:\n",
    "    ValueError si la columna ya existe.\n",
    "'''\n",
    "```\n",
    "**Ejemplo de uso:**"
   ]
  },
  {
   "cell_type": "code",
   "execution_count": 98,
   "metadata": {},
   "outputs": [
    {
     "name": "stdout",
     "output_type": "stream",
     "text": [
      "1 | 4 | 7\n",
      "2 | 5 | 8\n",
      "3 | 6 | 9\n"
     ]
    }
   ],
   "source": [
    "df.agregar_columna('col3', [7, 8, 9])\n",
    "print(df)"
   ]
  },
  {
   "cell_type": "markdown",
   "metadata": {},
   "source": [
    "##### `obtener_columna(nombre_columna: str) -> list`\n",
    "**Descripción:** Obtiene los valores de una columna específica.\n",
    "\n",
    "**Definición:**\n",
    "```python\n",
    "obtener_columna(nombre_columna: str) -> list\n",
    "'''\n",
    "Método para obtener los valores de una columna específica.\n",
    "Parameters:\n",
    "    nombre_columna: (str) Nombre de la columna a obtener.\n",
    "Return:\n",
    "    list: Lista de valores de la columna solicitada.\n",
    "Exceptions:\n",
    "    KeyError si la columna no existe.\n",
    "'''\n",
    "```\n",
    "**Ejemplo de uso:**"
   ]
  },
  {
   "cell_type": "code",
   "execution_count": 99,
   "metadata": {},
   "outputs": [
    {
     "name": "stdout",
     "output_type": "stream",
     "text": [
      "Valores de col1: [1, 2, 3]\n"
     ]
    }
   ],
   "source": [
    "valores_col1 = df.obtener_columna('col1')\n",
    "print(\"Valores de col1:\", valores_col1)"
   ]
  },
  {
   "cell_type": "markdown",
   "metadata": {},
   "source": [
    "##### `esta_vacio() -> bool`\n",
    "**Descripción:** Verifica si el data.frame está vacío.\n",
    "\n",
    "**Definición:**\n",
    "```python\n",
    "esta_vacio() -> bool\n",
    "'''\n",
    "Método para verificar si el data.frame está vacío.\n",
    "Return:\n",
    "    bool: True si no hay datos o todas las columnas están vacías, False en caso contrario.\n",
    "'''\n",
    "```\n",
    "**Ejemplo de uso:**"
   ]
  },
  {
   "cell_type": "code",
   "execution_count": 100,
   "metadata": {},
   "outputs": [
    {
     "name": "stdout",
     "output_type": "stream",
     "text": [
      "DataFrame vacío? False\n"
     ]
    }
   ],
   "source": [
    "print(\"DataFrame vacío?\", df.esta_vacio())"
   ]
  },
  {
   "cell_type": "markdown",
   "metadata": {},
   "source": [
    "##### `escribir_a_csv(ruta_archivo: str) -> None`\n",
    "**Descripción:** Guarda el data.frame en un archivo CSV.\n",
    "\n",
    "\n",
    "**Definición:**\n",
    "```python\n",
    "escribir_a_csv(ruta_archivo: str) -> None\n",
    "'''\n",
    "Método para escribir el data.frame en un archivo CSV.\n",
    "Parameters:\n",
    "    ruta_archivo: (str) Ruta donde se guardará el archivo CSV.\n",
    "Return:\n",
    "    None\n",
    "'''\n",
    "```\n",
    "**Ejemplo de uso:**"
   ]
  },
  {
   "cell_type": "code",
   "execution_count": 101,
   "metadata": {},
   "outputs": [],
   "source": [
    "df.escribir_a_csv('prueba.csv')"
   ]
  },
  {
   "cell_type": "markdown",
   "metadata": {},
   "source": [
    "##### `leer_desde_csv(ruta_archivo: str) -> \"DataFrame\"`\n",
    "**Descripción:** Carga un data.frame desde un archivo CSV.\n",
    "\n",
    "**Definición:**\n",
    "```python\n",
    "leer_desde_csv(ruta_archivo: str) -> \"DataFrame\"\n",
    "'''\n",
    "Método de clase para leer un archivo CSV y crear un data.frame personalizado.\n",
    "Parameters:\n",
    "    ruta_archivo: (str) Ruta del archivo CSV a leer.\n",
    "Return:\n",
    "    DataFrame: Nueva instancia de la clase con datos cargados desde el CSV.\n",
    "'''\n",
    "```\n",
    "**Ejemplo de uso:**"
   ]
  },
  {
   "cell_type": "code",
   "execution_count": 102,
   "metadata": {},
   "outputs": [
    {
     "name": "stdout",
     "output_type": "stream",
     "text": [
      "1 | 4 | 7\n",
      "2 | 5 | 8\n",
      "3 | 6 | 9\n"
     ]
    }
   ],
   "source": [
    "df_cargado = DataFrame.leer_desde_csv('prueba.csv')\n",
    "print(df_cargado)"
   ]
  },
  {
   "cell_type": "markdown",
   "metadata": {},
   "source": [
    "##### `escribir_a_txt(ruta_archivo: str) -> None`\n",
    "**Descripción:** Guarda el data.frame en un archivo txt.\n",
    "\n",
    "**Definición:**\n",
    "```python\n",
    "escribir_a_txt(ruta_archivo: str) -> None\n",
    "'''\n",
    "Método para escribir el data.frame en un archivo TXT con valores separados por tabulaciones.\n",
    "Parameters:\n",
    "    ruta_archivo: (str) Ruta donde se guardará el archivo TXT.\n",
    "Return:\n",
    "    None\n",
    "'''\n",
    "```\n",
    "**Ejemplo de uso:**"
   ]
  },
  {
   "cell_type": "code",
   "execution_count": 103,
   "metadata": {},
   "outputs": [],
   "source": [
    "df.escribir_a_txt('prueba.txt')"
   ]
  },
  {
   "cell_type": "markdown",
   "metadata": {},
   "source": [
    "##### `leer_desde_txt(ruta_archivo: str) -> \"DataFrame\"`\n",
    "**Descripción:** Carga un data.frame desde un archivo txt.\n",
    "\n",
    "**Definición:**\n",
    "```python\n",
    "leer_desde_txt(ruta_archivo: str) -> \"DataFrame\"\n",
    "'''\n",
    "Método de clase para leer un archivo TXT con valores separados por tabulaciones y crear un data.frame personalizado.\n",
    "Parameters:\n",
    "    ruta_archivo: (str) Ruta del archivo TXT a leer.\n",
    "Return:\n",
    "    DataFrame: Nueva instancia de la clase con datos cargados desde el TXT.\n",
    "'''\n",
    "```\n",
    "**Ejemplo de uso:**"
   ]
  },
  {
   "cell_type": "code",
   "execution_count": 104,
   "metadata": {},
   "outputs": [
    {
     "name": "stdout",
     "output_type": "stream",
     "text": [
      "1 | 4 | 7\n",
      "2 | 5 | 8\n",
      "3 | 6 | 9\n"
     ]
    }
   ],
   "source": [
    "df_cargado = DataFrame.leer_desde_txt('prueba.txt')\n",
    "print(df_cargado)"
   ]
  },
  {
   "cell_type": "markdown",
   "metadata": {},
   "source": [
    "## 2.Discretizador\n",
    "\n",
    "### Enunciado\n",
    "Clase que implementa varios métodos de discretización para una columna de datos numéricos, incluyendo discretización por ancho igual, frecuencia igual, k-means y basada en cuantiles. Además, permite obtener los rangos de cada bin generados en la discretización.\n",
    "\n",
    "### Métodos Implementados\n",
    "\n",
    "---\n",
    "\n",
    "##### `ancho_igual(columna: list[float | int], bins: int) -> list[int]`\n",
    "**Descripción:** Discretiza una columna en intervalos de ancho igual.\n",
    "\n",
    "**Definición:**\n",
    "```python\n",
    "ancho_igual(columna: list[float | int], bins: int) -> list[int]\n",
    "'''\n",
    "Método para discretizar una columna en intervalos de ancho igual.\n",
    "Parameters:\n",
    "    columna: (list[float | int]) Lista de valores numéricos a discretizar.\n",
    "    bins: (int) Número de intervalos (bins).\n",
    "Return:\n",
    "    list[int]: Lista de valores discretizados en función del intervalo correspondiente.\n",
    "'''\n",
    "```\n",
    "**Ejemplo de uso:**\n"
   ]
  },
  {
   "cell_type": "code",
   "execution_count": 105,
   "metadata": {},
   "outputs": [
    {
     "name": "stdout",
     "output_type": "stream",
     "text": [
      "Resultado de ancho igual: [0, 0, 0, 1, 1]\n"
     ]
    }
   ],
   "source": [
    "from discretize import Discretizador\n",
    "\n",
    "# Discretización por ancho igual\n",
    "columna = [1, 2, 3, 4, 5]\n",
    "bins = 2\n",
    "discretizado = Discretizador.ancho_igual(columna, bins)\n",
    "print(\"Resultado de ancho igual:\", discretizado)"
   ]
  },
  {
   "cell_type": "markdown",
   "metadata": {},
   "source": [
    "##### `frecuencia_igual(columna: list[float | int], bins: int) -> list[int]`\n",
    "**Descripción:** Discretiza una columna en intervalos de frecuencia igual.\n",
    "\n",
    "**Definición:**\n",
    "```python\n",
    "frecuencia_igual(columna: list[float | int], bins: int) -> list[int]\n",
    "'''\n",
    "Método para discretizar una columna en intervalos de frecuencia igual.\n",
    "Parameters:\n",
    "    columna: (list[float | int]) Lista de valores numéricos a discretizar.\n",
    "    bins: (int) Número de intervalos (bins).\n",
    "Return:\n",
    "    list[int]: Lista de valores discretizados en función del intervalo correspondiente.\n",
    "'''\n",
    "```\n",
    "**Ejemplo de uso:**"
   ]
  },
  {
   "cell_type": "code",
   "execution_count": 106,
   "metadata": {},
   "outputs": [
    {
     "name": "stdout",
     "output_type": "stream",
     "text": [
      "Resultado de frecuencia igual: [0, 0, 1, 1, 1]\n"
     ]
    }
   ],
   "source": [
    "# Discretización por frecuencia igual\n",
    "columna = [1, 2, 3, 4, 5]\n",
    "bins = 2\n",
    "discretizado = Discretizador.frecuencia_igual(columna, bins)\n",
    "print(\"Resultado de frecuencia igual:\", discretizado)"
   ]
  },
  {
   "cell_type": "markdown",
   "metadata": {},
   "source": [
    "##### `k_means(columna: list[float | int], bins: int) -> list[int]`\n",
    "**Descripción:** Discretiza una columna utilizando el algoritmo de k-means.\n",
    "\n",
    "**Definición:**\n",
    "```python\n",
    "k_means(columna: list[float | int], bins: int) -> list[int]\n",
    "'''\n",
    "Método para discretizar una columna usando el algoritmo de k-means.\n",
    "Parameters:\n",
    "    columna: (list[float | int]) Lista de valores numéricos a discretizar.\n",
    "    bins: (int) Número de intervalos (bins).\n",
    "Return:\n",
    "    list[int]: Lista de valores discretizados en función del intervalo correspondiente.\n",
    "'''\n",
    "```\n",
    "**Ejemplo de uso:**"
   ]
  },
  {
   "cell_type": "code",
   "execution_count": 107,
   "metadata": {},
   "outputs": [
    {
     "name": "stdout",
     "output_type": "stream",
     "text": [
      "Resultado de k-means: [0, 0, 0, 1, 1, 1, 2, 2]\n"
     ]
    }
   ],
   "source": [
    "columna = [10, 20, 20, 30, 40, 40, 50, 60]\n",
    "bins = 3\n",
    "discretizado = Discretizador.k_means(columna, bins)\n",
    "print(\"Resultado de k-means:\", discretizado)"
   ]
  },
  {
   "cell_type": "markdown",
   "metadata": {},
   "source": [
    "##### `basado_en_cuantiles(columna: list[float | int], bins: int) -> list[int]`\n",
    "**Descripción:** Discretiza una columna basada en cuantiles.\n",
    "\n",
    "**Definición:**\n",
    "```python\n",
    "basado_en_cuantiles(columna: list[float | int], bins: int) -> list[int]\n",
    "'''\n",
    "Método para discretizar una columna basada en cuantiles.\n",
    "Parameters:\n",
    "    columna: (list[float | int]) Lista de valores numéricos a discretizar.\n",
    "    bins: (int) Número de intervalos (bins).\n",
    "Return:\n",
    "    list[int]: Lista de valores discretizados en función del intervalo correspondiente.\n",
    "'''\n",
    "```\n",
    "**Ejemplo de uso:**"
   ]
  },
  {
   "cell_type": "code",
   "execution_count": 108,
   "metadata": {},
   "outputs": [
    {
     "name": "stdout",
     "output_type": "stream",
     "text": [
      "Resultado basado en cuantiles: [0, 0, 0, 1, 1, 1, 2, 2, 2]\n"
     ]
    }
   ],
   "source": [
    "columna = [5, 15, 25, 35, 45, 55, 65, 75, 85]\n",
    "bins = 3\n",
    "discretizado = Discretizador.basado_en_cuantiles(columna, bins)\n",
    "print(\"Resultado basado en cuantiles:\", discretizado)"
   ]
  },
  {
   "cell_type": "markdown",
   "metadata": {},
   "source": [
    "##### `discretizar_columna(df, nombre_columna: str, metodo: str = 'ancho_igual', bins: int = 3) -> None`\n",
    "**Descripción:** Discretiza una columna de un data.frame usando un método específico.\n",
    "\n",
    "**Definición:**\n",
    "```python\n",
    "discretizar_columna(df, nombre_columna: str, metodo: str = 'ancho_igual', bins: int = 3) -> None\n",
    "'''\n",
    "Método para discretizar una columna de un data.frame usando un método específico.\n",
    "Parameters:\n",
    "    df: (objeto) DataFrame con la columna a discretizar.\n",
    "    nombre_columna: (str) Nombre de la columna a discretizar.\n",
    "    metodo: (str) Método de discretización ('ancho_igual', 'frecuencia_igual', 'k_means', 'basado_en_cuantiles').\n",
    "    bins: (int) Número de intervalos (bins).\n",
    "Return:\n",
    "    None\n",
    "'''\n",
    "```\n",
    "**Ejemplo de uso:**"
   ]
  },
  {
   "cell_type": "code",
   "execution_count": 109,
   "metadata": {},
   "outputs": [
    {
     "name": "stdout",
     "output_type": "stream",
     "text": [
      "DataFrame después de discretizar por k-means:\n",
      "0\n",
      "0\n",
      "0\n",
      "1\n",
      "1\n",
      "1\n",
      "2\n",
      "2\n"
     ]
    }
   ],
   "source": [
    "from dataframe import DataFrame\n",
    "\n",
    "df = DataFrame({'col': [10, 20, 20, 30, 40, 40, 50, 60]})\n",
    "Discretizador.discretizar_columna(df, 'col', metodo='k_means', bins=3)\n",
    "print(\"DataFrame después de discretizar por k-means:\")\n",
    "print(df)"
   ]
  },
  {
   "cell_type": "markdown",
   "metadata": {},
   "source": [
    "##### `obtener_rangos_bins(metodo: str = 'ancho_igual', decimales: int = 8) -> list[tuple[float, float]]`\n",
    "**Descripción:** Obtiene los rangos de cada bin en función del método de discretización usado.\n",
    "\n",
    "**Definición:**\n",
    "```python\n",
    "obtener_rangos_bins(metodo: str = 'ancho_igual', decimales: int = 8) -> list[tuple[float, float]]\n",
    "'''\n",
    "Método para obtener los rangos de cada bin en función del método de discretización usado.\n",
    "Parameters:\n",
    "    metodo: (str) Método de discretización para el cual obtener los rangos de bins.\n",
    "    decimales: (int) Número de decimales para redondear los puntos de corte.\n",
    "Return:\n",
    "    list[tuple[float, float]]: Lista de tuplas que representan los rangos de cada bin.\n",
    "Exceptions:\n",
    "    ValueError si no existen puntos de corte para el método especificado.\n",
    "'''\n",
    "```\n",
    "**Ejemplo de uso:**"
   ]
  },
  {
   "cell_type": "code",
   "execution_count": 110,
   "metadata": {},
   "outputs": [
    {
     "name": "stdout",
     "output_type": "stream",
     "text": [
      "Rangos de bins para k-means: [(-inf, 26.66666667), (26.66666667, 45.83333333), (45.83333333, inf)]\n"
     ]
    }
   ],
   "source": [
    "columna = [10, 20, 20, 30, 40, 40, 50, 60]\n",
    "bins = 3\n",
    "Discretizador.k_means(columna, bins)\n",
    "rangos_bins = Discretizador.obtener_rangos_bins('k_means')\n",
    "print(\"Rangos de bins para k-means:\", rangos_bins)\n"
   ]
  },
  {
   "cell_type": "markdown",
   "metadata": {},
   "source": [
    "## 3.Métricas\n",
    "\n",
    "### Enunciado\n",
    "Clase que implementa métodos para calcular métricas estadísticas, como varianza, entropía y AUC (Área Bajo la Curva), en una columna de datos. Además, permite calcular automáticamente la métrica adecuada en función del tipo de columna.\n",
    "\n",
    "### Métodos Implementados\n",
    "\n",
    "---\n",
    "\n",
    "##### `varianza(columna: list[float | int]) -> float`\n",
    "**Descripción:** Calcula la varianza de una columna numérica.\n",
    "\n",
    "**Definición:**\n",
    "```python\n",
    "varianza(columna: list[float | int]) -> float\n",
    "'''\n",
    "Método para calcular la varianza de una columna numérica.\n",
    "Parámetros:\n",
    "    columna: (list[float | int]) Lista de valores numéricos.\n",
    "Return:\n",
    "    float: Varianza de los valores en la columna.\n",
    "'''\n",
    "```\n",
    "**Ejemplo de uso:**\n"
   ]
  },
  {
   "cell_type": "code",
   "execution_count": 111,
   "metadata": {},
   "outputs": [
    {
     "name": "stdout",
     "output_type": "stream",
     "text": [
      "Varianza: 2.0\n"
     ]
    }
   ],
   "source": [
    "from metrics import Metricas\n",
    "\n",
    "# Cálculo de la varianza\n",
    "columna = [1, 2, 3, 4, 5]\n",
    "varianza = Metricas.varianza(columna)\n",
    "print(\"Varianza:\", varianza)"
   ]
  },
  {
   "cell_type": "markdown",
   "metadata": {},
   "source": [
    "##### `entropia(columna: list) -> float`\n",
    "**Descripción:** Calcula la entropía de una columna categórica.\n",
    "\n",
    "**Definición:**\n",
    "```python\n",
    "entropia(columna: list) -> float\n",
    "'''\n",
    "Método para calcular la entropía de una columna categórica.\n",
    "Parámetros:\n",
    "    columna: (list) Lista de valores categóricos.\n",
    "Return:\n",
    "    float: Entropía de los valores en la columna.\n",
    "'''\n",
    "```\n",
    "**Ejemplo de uso:**"
   ]
  },
  {
   "cell_type": "code",
   "execution_count": 112,
   "metadata": {},
   "outputs": [
    {
     "name": "stdout",
     "output_type": "stream",
     "text": [
      "Entropía: 1.5566567074628228\n"
     ]
    }
   ],
   "source": [
    "columna = [1, 1, 2, 2, 2, 3, 3]\n",
    "entropia = Metricas.entropia(columna)\n",
    "print(\"Entropía:\", entropia)"
   ]
  },
  {
   "cell_type": "markdown",
   "metadata": {},
   "source": [
    "##### `auc(columna: list[float | int], columna_clase: list[int]) -> float`\n",
    "**Descripción:** Calcula el AUC (Área Bajo la Curva) de una columna numérica en relación con una columna de clase binaria.\n",
    "\n",
    "**Definición:**\n",
    "```python\n",
    "auc(columna: list[float | int], columna_clase: list[int]) -> float\n",
    "'''\n",
    "Método para calcular el AUC (Area Under the Curve) de una columna en función de una columna de clase binaria.\n",
    "Parámetros:\n",
    "    columna: (list[float | int]) Lista de valores numéricos para ordenar.\n",
    "    columna_clase: (list[int]) Lista binaria de clases asociadas a cada valor en columna.\n",
    "Return:\n",
    "    float: Valor de AUC calculado para la columna y columna_clase.\n",
    "'''\n",
    "```\n",
    "**Ejemplo de uso:**"
   ]
  },
  {
   "cell_type": "code",
   "execution_count": 113,
   "metadata": {},
   "outputs": [
    {
     "name": "stdout",
     "output_type": "stream",
     "text": [
      "AUC: 1.0\n"
     ]
    }
   ],
   "source": [
    "columna = [0.1, 0.4, 0.35, 0.8]\n",
    "columna_clase = [0, 1, 0, 1]\n",
    "auc = Metricas.auc(columna, columna_clase)\n",
    "print(\"AUC:\", auc)"
   ]
  },
  {
   "cell_type": "markdown",
   "metadata": {},
   "source": [
    "##### `calcular_metrica(df, nombre_columna: str, nombre_columna_clase: str = None) -> dict`\n",
    "**Descripción:** Calcula la métrica adecuada para una columna de un DataFrame, basándose en el tipo de datos de la columna.\n",
    "\n",
    "**Definición:**\n",
    "```python\n",
    "calcular_metrica(df, nombre_columna: str, nombre_columna_clase: str = None) -> dict\n",
    "'''\n",
    "Método para calcular una métrica para una columna en un data.frame.\n",
    "Parámetros:\n",
    "    df: (DataFrame) DataFrame con los datos.\n",
    "    nombre_columna: (str) Nombre de la columna para la cual calcular la métrica.\n",
    "    nombre_columna_clase: (str, opcional) Nombre de la columna de clase si es necesaria para el cálculo.\n",
    "Return:\n",
    "    dict: Diccionario con la métrica calculada.\n",
    "'''\n",
    "```\n",
    "**Ejemplo de uso:**"
   ]
  },
  {
   "cell_type": "code",
   "execution_count": 114,
   "metadata": {},
   "outputs": [
    {
     "name": "stdout",
     "output_type": "stream",
     "text": [
      "Métrica (Varianza): {'Varianza': 50.0}\n",
      "Métrica (Entropía): {'Entropía': 0.9709505944546686}\n",
      "Métrica (AUC y Varianza): {'Varianza': 125000000.0, 'AUC': 0.75}\n"
     ]
    }
   ],
   "source": [
    "from dataframe import DataFrame\n",
    "\n",
    "# Calcular la métrica de varianza para una columna numérica\n",
    "df = DataFrame({'edad': [20, 25, 30, 35, 40]})\n",
    "metrica_varianza = Metricas.calcular_metrica(df, 'edad')\n",
    "print(\"Métrica (Varianza):\", metrica_varianza)\n",
    "\n",
    "# Calcular la métrica de entropía para una columna categórica\n",
    "df = DataFrame({'compra': [1, 1, 0, 0, 1]})\n",
    "metrica_entropia = Metricas.calcular_metrica(df, 'compra')\n",
    "print(\"Métrica (Entropía):\", metrica_entropia)\n",
    "\n",
    "# Calcular la métrica de AUC para una columna numérica con columna de clase\n",
    "df = DataFrame({'ingreso': [30000, 40000, 50000, 60000], 'compra': [0, 1, 0, 1]})\n",
    "metrica_auc = Metricas.calcular_metrica(df, 'ingreso', 'compra')\n",
    "print(\"Métrica (AUC y Varianza):\", metrica_auc)"
   ]
  },
  {
   "cell_type": "markdown",
   "metadata": {},
   "source": [
    "## 4.Escalador/Normalizador de Datos\n",
    "\n",
    "### Enunciado\n",
    "Clase que proporciona métodos para verificar si una columna es numérica, normalizar valores numéricos con la escala min-max, estandarizar valores, y aplicar estas operaciones en un DataFrame completo.\n",
    "\n",
    "### Métodos Implementados\n",
    "\n",
    "---\n",
    "\n",
    "##### `normalizar_min_max(columna: list[float | int], decimales: int = 3) -> list[float]`\n",
    "**Descripción:** Normaliza una columna utilizando la escala min-max.\n",
    "\n",
    "**Definición:**\n",
    "```python\n",
    "normalizar_min_max(columna: list[float | int], decimales: int = 3) -> list[float]\n",
    "'''\n",
    "Método para normalizar una columna utilizando la escala min-max.\n",
    "Parámetros:\n",
    "    columna: (list[float | int]) Lista de valores numéricos a normalizar.\n",
    "    decimales: (int) Número de decimales para redondear los valores normalizados.\n",
    "Retorno:\n",
    "    list[float]: Lista de valores normalizados con la escala min-max.\n",
    "'''\n",
    "```\n",
    "**Ejemplo de uso:**\n"
   ]
  },
  {
   "cell_type": "code",
   "execution_count": 115,
   "metadata": {},
   "outputs": [
    {
     "name": "stdout",
     "output_type": "stream",
     "text": [
      "Columna normalizada min-max: [0.0, 0.25, 0.5, 0.75, 1.0]\n"
     ]
    }
   ],
   "source": [
    "from normalize import EscaladorDatos\n",
    "\n",
    "# Normalización min-max\n",
    "columna = [10, 20, 30, 40, 50]\n",
    "normalizado = EscaladorDatos.normalizar_min_max(columna)\n",
    "print(\"Columna normalizada min-max:\", normalizado)\n"
   ]
  },
  {
   "cell_type": "markdown",
   "metadata": {},
   "source": [
    "##### `estandarizar(columna: list[float | int], decimales: int = 3) -> list[float]`\n",
    "**Descripción:** Estandariza una columna restando la media y dividiendo por la desviación estándar.\n",
    "\n",
    "**Definición:**\n",
    "```python\n",
    "estandarizar(columna: list[float | int], decimales: int = 3) -> list[float]\n",
    "'''\n",
    "Método para estandarizar una columna, restando la media y dividiendo por la desviación estándar.\n",
    "Parámetros:\n",
    "    columna: (list[float | int]) Lista de valores numéricos a estandarizar.\n",
    "    decimales: (int) Número de decimales para redondear los valores estandarizados.\n",
    "Retorno:\n",
    "    list[float]: Lista de valores estandarizados.\n",
    "'''\n",
    "```\n",
    "**Ejemplo de uso:**"
   ]
  },
  {
   "cell_type": "code",
   "execution_count": 116,
   "metadata": {},
   "outputs": [
    {
     "name": "stdout",
     "output_type": "stream",
     "text": [
      "Columna estandarizada: [-1.414, -0.707, 0.0, 0.707, 1.414]\n"
     ]
    }
   ],
   "source": [
    "# Estandarización\n",
    "columna = [10, 20, 30, 40, 50]\n",
    "estandarizado = EscaladorDatos.estandarizar(columna)\n",
    "print(\"Columna estandarizada:\", estandarizado)"
   ]
  },
  {
   "cell_type": "markdown",
   "metadata": {},
   "source": [
    "##### `normalizar_data_frame(df, decimales: int = 3) -> None`\n",
    "**Descripción:** Normaliza cada columna numérica de un DataFrame usando la escala min-max.\n",
    "\n",
    "**Definición:**\n",
    "```python\n",
    "normalizar_data_frame(df, decimales: int = 3) -> None\n",
    "'''\n",
    "Método para normalizar cada columna numérica de un data.frame usando la escala min-max.\n",
    "Parámetros:\n",
    "    df: (objeto) DataFrame personalizado con los datos a normalizar.\n",
    "    decimales: (int) Número de decimales para redondear los valores normalizados.\n",
    "Retorno:\n",
    "    None\n",
    "'''\n",
    "```\n",
    "**Ejemplo de uso:**"
   ]
  },
  {
   "cell_type": "code",
   "execution_count": 117,
   "metadata": {},
   "outputs": [
    {
     "name": "stdout",
     "output_type": "stream",
     "text": [
      "DataFrame normalizado (min-max): 0.0 | 0.0 | A\n",
      "0.25 | 0.222 | B\n",
      "0.5 | 0.444 | A\n",
      "0.75 | 0.778 | B\n",
      "1.0 | 1.0 | C\n"
     ]
    }
   ],
   "source": [
    "from dataframe import DataFrame\n",
    "\n",
    "# Crear un DataFrame y normalizar sus columnas numéricas\n",
    "df = DataFrame({\n",
    "    'edad': [25, 30, 35, 40, 45],\n",
    "    'ingreso': [30000, 50000, 70000, 100000, 120000],\n",
    "    'categoria': ['A', 'B', 'A', 'B', 'C']\n",
    "})\n",
    "EscaladorDatos.normalizar_data_frame(df)\n",
    "print(\"DataFrame normalizado (min-max):\", df)"
   ]
  },
  {
   "cell_type": "markdown",
   "metadata": {},
   "source": [
    "##### `estandarizar_data_frame(df, decimales: int = 3) -> None`\n",
    "**Descripción:** Estandariza cada columna numérica de un DataFrame, restando la media y dividiendo por la desviación estándar.\n",
    "\n",
    "**Definición:**\n",
    "```python\n",
    "estandarizar_data_frame(df, decimales: int = 3) -> None\n",
    "'''\n",
    "Método para estandarizar cada columna numérica de un data.frame, restando la media y dividiendo por la desviación estándar.\n",
    "Parámetros:\n",
    "    df: (objeto) DataFrame personalizado con los datos a estandarizar.\n",
    "    decimales: (int) Número de decimales para redondear los valores estandarizados.\n",
    "Retorno:\n",
    "    None\n",
    "'''\n",
    "```\n",
    "**Ejemplo de uso:**"
   ]
  },
  {
   "cell_type": "code",
   "execution_count": 118,
   "metadata": {},
   "outputs": [
    {
     "name": "stdout",
     "output_type": "stream",
     "text": [
      "DataFrame estandarizado: -1.414 | -1.349 | A\n",
      "-0.707 | -0.736 | B\n",
      "0.0 | -0.123 | A\n",
      "0.707 | 0.797 | B\n",
      "1.414 | 1.41 | C\n"
     ]
    }
   ],
   "source": [
    "# Crear un DataFrame y estandarizar sus columnas numéricas\n",
    "df = DataFrame({\n",
    "    'edad': [25, 30, 35, 40, 45],\n",
    "    'ingreso': [30000, 50000, 70000, 100000, 120000],\n",
    "    'categoria': ['A', 'B', 'A', 'B', 'C']\n",
    "})\n",
    "EscaladorDatos.estandarizar_data_frame(df)\n",
    "print(\"DataFrame estandarizado:\", df)"
   ]
  },
  {
   "cell_type": "markdown",
   "metadata": {},
   "source": [
    "## 5.Filtro de Datos\n",
    "\n",
    "### Enunciado\n",
    "Clase que permite aplicar filtros a un DataFrame en función de métricas como entropía, varianza y AUC (Área Bajo la Curva) en relación a una columna de clase binaria. Cada filtro selecciona columnas que cumplen con un umbral especificado, almacenando los resultados filtrados. Todos los filtros se aplican sobre el DataFrame original. Una vez se hayan realizado todos los filtros se puede obtener el DataFrame modificado mediante todos los filtrados.\n",
    "\n",
    "### Métodos Implementados\n",
    "\n",
    "---\n",
    "\n",
    "##### `__init__(dataframe: DataFrame)`\n",
    "**Descripción:** Constructor que inicializa el filtro con un DataFrame original.\n",
    "\n",
    "**Definición:**\n",
    "```python\n",
    "__init__(dataframe: DataFrame)\n",
    "'''\n",
    "Constructor que inicializa un filtro de datos con el DataFrame original.\n",
    "Parameters:\n",
    "    dataframe: (DataFrame) DataFrame con los datos originales.\n",
    "'''\n",
    "```\n",
    "**Ejemplo de uso:**\n"
   ]
  },
  {
   "cell_type": "code",
   "execution_count": 119,
   "metadata": {},
   "outputs": [],
   "source": [
    "from dataframe import DataFrame\n",
    "from filter import Filtro\n",
    "\n",
    "df = DataFrame({\n",
    "    'edad': [25, 30, 35, 40, 45],\n",
    "    'ingreso': [30000, 50000, 70000, 100000, 120000],\n",
    "    'categoria': [1, 1, 2, 2, 3]\n",
    "})\n",
    "filtro = Filtro(df)"
   ]
  },
  {
   "cell_type": "markdown",
   "metadata": {},
   "source": [
    "##### `obtener_data_frame_filtrado() -> DataFrame`\n",
    "**Descripción:** Devuelve un nuevo DataFrame que contiene solo las columnas que cumplen con los filtros aplicados.\n",
    "\n",
    "**Definición:**\n",
    "```python\n",
    "obtener_data_frame_filtrado() -> DataFrame\n",
    "'''\n",
    "Método para obtener un nuevo DataFrame con los datos filtrados.\n",
    "Return:\n",
    "    DataFrame: DataFrame que contiene solo las columnas que cumplen con los filtros aplicados.\n",
    "'''\n",
    "```\n",
    "**Ejemplo de uso:**"
   ]
  },
  {
   "cell_type": "code",
   "execution_count": 120,
   "metadata": {},
   "outputs": [
    {
     "name": "stdout",
     "output_type": "stream",
     "text": [
      "DataFrame con datos filtrados: \n"
     ]
    }
   ],
   "source": [
    "df_filtrado = filtro.obtener_data_frame_filtrado()\n",
    "print(\"DataFrame con datos filtrados:\", df_filtrado)"
   ]
  },
  {
   "cell_type": "markdown",
   "metadata": {},
   "source": [
    "##### `filtrar_por_entropia(umbral: float, columnas: list[str] = None) -> None`\n",
    "**Descripción:** Filtra columnas en función de la entropía, seleccionando aquellas que superan un umbral dado. De lo contrario la variable/columna quedara descartado. En caso de especificar columna se aplica el filtro colamente a la columna espeficicada (uno o varios, en formato de lista).\n",
    "\n",
    "**Definición:**\n",
    "```python\n",
    "filtrar_por_entropia(umbral: float, columnas: list[str] = None) -> None\n",
    "'''\n",
    "Método para filtrar columnas en función de la entropía.\n",
    "Parameters:\n",
    "    umbral: (float) Umbral de entropía por encima del cual se filtran las columnas.\n",
    "    columnas: (list[str] | None) Lista de nombres de columnas a filtrar, o None para todas las columnas.\n",
    "'''\n",
    "```\n",
    "**Ejemplo de uso:**"
   ]
  },
  {
   "cell_type": "code",
   "execution_count": 121,
   "metadata": {},
   "outputs": [
    {
     "name": "stdout",
     "output_type": "stream",
     "text": [
      "DataFrame filtrado por entropia: {'edad': [25, 30, 35, 40, 45], 'ingreso': [30000, 50000, 70000, 100000, 120000]}\n",
      "DataFrame filtrado por entropia: {'categoria': [1, 1, 2, 2, 3]}\n",
      "DataFrame filtrado por entropia: {}\n"
     ]
    }
   ],
   "source": [
    "df = DataFrame({\n",
    "    'edad': [25, 30, 35, 40, 45],\n",
    "    'ingreso': [30000, 50000, 70000, 100000, 120000],\n",
    "    'categoria': [1, 1, 2, 2, 3]\n",
    "})\n",
    "filtro_datos = Filtro(df)\n",
    "    \n",
    "filtro_datos.filtrar_por_entropia(umbral=2.3)\n",
    "df_filtrado = filtro_datos.obtener_data_frame_filtrado()\n",
    "print(\"DataFrame filtrado por entropia:\", df_filtrado.datos)\n",
    "\n",
    "filtro_datos = Filtro(df)\n",
    "filtro_datos.filtrar_por_entropia(umbral=0.5, columnas=['categoria'])\n",
    "df_filtrado = filtro_datos.obtener_data_frame_filtrado()\n",
    "print(\"DataFrame filtrado por entropia:\", df_filtrado.datos)\n",
    "\n",
    "filtro_datos = Filtro(df)\n",
    "filtro_datos.filtrar_por_entropia(umbral=12.0, columnas=['categoria'])\n",
    "df_filtrado = filtro_datos.obtener_data_frame_filtrado()\n",
    "print(\"DataFrame filtrado por entropia:\", df_filtrado.datos)"
   ]
  },
  {
   "cell_type": "markdown",
   "metadata": {},
   "source": [
    "##### `filtrar_por_varianza(umbral: float, columnas: list[str] = None) -> None`\n",
    "**Descripción:** Filtra columnas en función de la varianza, seleccionando aquellas que superan un umbral dado. De lo contrario la variable/columna quedara descartado. En caso de especificar columna se aplica el filtro colamente a la columna espeficicada (uno o varios, en formato de lista).\n",
    "\n",
    "**Definición:**\n",
    "```python\n",
    "filtrar_por_varianza(umbral: float, columnas: list[str] = None) -> None\n",
    "'''\n",
    "Método para filtrar columnas en función de la varianza.\n",
    "Parameters:\n",
    "    umbral: (float) Umbral de varianza por encima del cual se filtran las columnas.\n",
    "    columnas: (list[str] | None) Lista de nombres de columnas a filtrar, o None para todas las columnas.\n",
    "'''\n",
    "```\n",
    "**Ejemplo de uso:**"
   ]
  },
  {
   "cell_type": "code",
   "execution_count": 122,
   "metadata": {},
   "outputs": [
    {
     "name": "stdout",
     "output_type": "stream",
     "text": [
      "0.0\n",
      "1064000000.0\n",
      "2.0\n",
      "DataFrame filtrado por varianza: {'ingreso': [30000, 50000, 70000, 100000, 120000]}\n",
      "2.0\n",
      "DataFrame filtrado por varianza: {'categoria': [1, 2, 3, 4, 5]}\n",
      "2.0\n",
      "DataFrame filtrado por varianza: {}\n"
     ]
    }
   ],
   "source": [
    "df = DataFrame({\n",
    "    'edad': [25, 25, 25, 25, 25],\n",
    "    'ingreso': [30000, 50000, 70000, 100000, 120000],\n",
    "    'categoria': [1, 2, 3, 4, 5]\n",
    "})\n",
    "filtro_datos = Filtro(df)\n",
    "    \n",
    "filtro_datos.filtrar_por_varianza(umbral=1000)\n",
    "df_filtrado = filtro_datos.obtener_data_frame_filtrado()\n",
    "print(\"DataFrame filtrado por varianza:\", df_filtrado.datos)\n",
    "\n",
    "filtro_datos = Filtro(df)\n",
    "filtro_datos.filtrar_por_varianza(umbral=0.5, columnas=['categoria'])\n",
    "df_filtrado = filtro_datos.obtener_data_frame_filtrado()\n",
    "print(\"DataFrame filtrado por varianza:\", df_filtrado.datos)\n",
    "\n",
    "filtro_datos = Filtro(df)\n",
    "filtro_datos.filtrar_por_varianza(umbral=20.5, columnas=['categoria'])\n",
    "df_filtrado = filtro_datos.obtener_data_frame_filtrado()\n",
    "print(\"DataFrame filtrado por varianza:\", df_filtrado.datos)"
   ]
  },
  {
   "cell_type": "markdown",
   "metadata": {},
   "source": [
    "##### `filtrar_por_auc(umbral: float, nombre_columna_clase: str, columnas: list[str] = None) -> None`\n",
    "**Descripción:** Filtra columnas en función del AUC en relación a una columna de clase binaria, seleccionando aquellas que superan un umbral dado. De lo contrario la variable/columna quedara descartado. En caso de especificar columna se aplica el filtro colamente a la columna espeficicada (uno o varios, en formato de lista).\n",
    "\n",
    "**Definición:**\n",
    "```python\n",
    "filtrar_por_auc(umbral: float, nombre_columna_clase: str, columnas: list[str] = None) -> None\n",
    "'''\n",
    "Método para filtrar columnas en función del AUC (Area Under the Curve) en relación a una columna de clase binaria.\n",
    "Parameters:\n",
    "    umbral: (float) Umbral de AUC por encima del cual se filtran las columnas.\n",
    "    nombre_columna_clase: (str) Nombre de la columna de clase binaria.\n",
    "    columnas: (list[str] | None) Lista de nombres de columnas a filtrar, o None para todas las columnas.\n",
    "Exceptions:\n",
    "    ValueError si la columna de clase especificada no existe en el DataFrame.\n",
    "'''\n",
    "```\n",
    "**Ejemplo de uso:**"
   ]
  },
  {
   "cell_type": "code",
   "execution_count": 123,
   "metadata": {},
   "outputs": [
    {
     "name": "stdout",
     "output_type": "stream",
     "text": [
      "DataFrame filtrado por auc: {'edad': [23, 45, 31, 22, 35], 'ingreso': [30000, 50000, 70000, 100000, 120000]}\n",
      "DataFrame filtrado por auc: {'edad': [23, 45, 31, 22, 35]}\n"
     ]
    }
   ],
   "source": [
    "df = DataFrame({\n",
    "    'edad': [23, 45, 31, 22, 35],\n",
    "    'ingreso': [30000, 50000, 70000, 100000, 120000],\n",
    "    'compra': [1, 0, 1, 0, 1]\n",
    "})\n",
    "filtro_datos = Filtro(df)\n",
    "    \n",
    "filtro_datos.filtrar_por_auc(umbral=0.4, nombre_columna_clase='compra')\n",
    "df_filtrado = filtro_datos.obtener_data_frame_filtrado()\n",
    "print(\"DataFrame filtrado por auc:\", df_filtrado.datos)\n",
    "\n",
    "filtro_datos = Filtro(df)\n",
    "filtro_datos.filtrar_por_auc(umbral=0.4, nombre_columna_clase='compra', columnas=['edad'])\n",
    "df_filtrado = filtro_datos.obtener_data_frame_filtrado()\n",
    "print(\"DataFrame filtrado por auc:\", df_filtrado.datos)"
   ]
  },
  {
   "cell_type": "markdown",
   "metadata": {},
   "source": [
    "## 6.Correlación de Datos\n",
    "\n",
    "### Enunciado\n",
    "Clase que proporciona métodos para calcular la correlación entre columnas de un DataFrame. Para columnas numéricas, se utiliza la correlación de Pearson, mientras que para columnas categóricas se emplea la información mutua.\n",
    "\n",
    "### Métodos Implementados\n",
    "\n",
    "---\n",
    "\n",
    "##### `__init__(dataframe: DataFrame)`\n",
    "**Descripción:** Constructor que inicializa el filtro con un DataFrame original.\n",
    "\n",
    "**Definición:**\n",
    "```python\n",
    "__init__(dataframe: DataFrame)\n",
    "'''\n",
    "Constructor que inicializa la calculadora de correlación con un DataFrame.\n",
    "Parameters:\n",
    "    dataframe: (DataFrame) DataFrame con los datos.\n",
    "'''\n",
    "```\n",
    "**Ejemplo de uso:**\n"
   ]
  },
  {
   "cell_type": "code",
   "execution_count": 124,
   "metadata": {},
   "outputs": [],
   "source": [
    "from dataframe import DataFrame\n",
    "from correlation import Correlacion\n",
    "\n",
    "df = DataFrame({\n",
    "    'x': [1, 2, 3, 4, 5],\n",
    "    'y': [2, 4, 6, 8, 10]\n",
    "})\n",
    "correlacion_calculadora = Correlacion(df)"
   ]
  },
  {
   "cell_type": "markdown",
   "metadata": {},
   "source": [
    "##### `correlacion_pearson(col1: list[float], col2: list[float]) -> float`\n",
    "**Descripción:** Calcula la correlación de Pearson entre dos columnas numéricas.\n",
    "\n",
    "**Definición:**\n",
    "```python\n",
    "correlacion_pearson(col1: list[float], col2: list[float]) -> float\n",
    "'''\n",
    "Método para calcular la correlación de Pearson entre dos columnas numéricas.\n",
    "Parameters:\n",
    "    col1: (list[float]) Primera columna de valores numéricos.\n",
    "    col2: (list[float]) Segunda columna de valores numéricos.\n",
    "Return:\n",
    "    float: Valor de correlación de Pearson entre col1 y col2.\n",
    "'''\n",
    "```\n",
    "**Ejemplo de uso:**"
   ]
  },
  {
   "cell_type": "code",
   "execution_count": 125,
   "metadata": {},
   "outputs": [
    {
     "name": "stdout",
     "output_type": "stream",
     "text": [
      "Correlación de Pearson: 0.9999999999999998\n"
     ]
    }
   ],
   "source": [
    "correlacion = correlacion_calculadora.correlacion_pearson([1, 2, 3], [2, 4, 6])\n",
    "print(\"Correlación de Pearson:\", correlacion)"
   ]
  },
  {
   "cell_type": "markdown",
   "metadata": {},
   "source": [
    "##### `informacion_mutua(col1: list, col2: list) -> float`\n",
    "**Descripción:** Calcula la información mutua entre dos columnas categóricas.\n",
    "\n",
    "**Definición:**\n",
    "```python\n",
    "informacion_mutua(col1: list, col2: list) -> float\n",
    "'''\n",
    "Método para calcular la información mutua entre dos columnas categóricas.\n",
    "Parameters:\n",
    "    col1: (list) Primera columna de valores.\n",
    "    col2: (list) Segunda columna de valores.\n",
    "Return:\n",
    "    float: Valor de información mutua entre col1 y col2.\n",
    "'''\n",
    "```\n",
    "**Ejemplo de uso:**"
   ]
  },
  {
   "cell_type": "code",
   "execution_count": 126,
   "metadata": {},
   "outputs": [
    {
     "name": "stdout",
     "output_type": "stream",
     "text": [
      "Información mutua: 1.5219280948873621\n"
     ]
    }
   ],
   "source": [
    "info_mutua = correlacion_calculadora.informacion_mutua(['gato', 'perro', 'perro', 'pajaro', 'pajaro'], ['manzana', 'banana', 'banana', 'cereza', 'cereza'])\n",
    "print(\"Información mutua:\", info_mutua)"
   ]
  },
  {
   "cell_type": "markdown",
   "metadata": {},
   "source": [
    "##### `calcular_correlacion_por_pares() -> dict`\n",
    "**Descripción:** Calcula la correlación entre todas las combinaciones de columnas en el DataFrame. Para columnas numéricas se utiliza la correlación de Pearson, y para columnas categóricas, la información mutua.\n",
    "\n",
    "**Definición:**\n",
    "```python\n",
    "calcular_correlacion_por_pares() -> dict\n",
    "'''\n",
    "Método para calcular la correlación entre todas las combinaciones de columnas en el DataFrame.\n",
    "Para columnas numéricas se usa la correlación de Pearson, y para categóricas, la información mutua.\n",
    "Return:\n",
    "    dict: Diccionario con las correlaciones entre pares de columnas.\n",
    "          Las llaves son tuplas (nombre_col1, nombre_col2) y los valores son los coeficientes de correlación.\n",
    "'''\n",
    "```\n",
    "**Ejemplo de uso:**"
   ]
  },
  {
   "cell_type": "code",
   "execution_count": 127,
   "metadata": {},
   "outputs": [
    {
     "name": "stdout",
     "output_type": "stream",
     "text": [
      "Correlaciones por pares: {('num', 'cat'): 0.944911182523068, ('num', 'otro_num'): 1.0, ('cat', 'otro_num'): 0.944911182523068}\n"
     ]
    }
   ],
   "source": [
    "df = DataFrame({\n",
    "    'num': [10, 20, 30, 40, 50],\n",
    "    'cat': [1, 1, 2, 2, 3],\n",
    "    'otro_num': [15, 25, 35, 45, 55]\n",
    "})\n",
    "calculadora_correlacion = Correlacion(df)\n",
    "correlaciones = calculadora_correlacion.calcular_correlacion_por_pares()\n",
    "print(\"Correlaciones por pares:\", correlaciones)"
   ]
  },
  {
   "cell_type": "markdown",
   "metadata": {},
   "source": [
    "## 7.Visualizador de Datos\n",
    "\n",
    "### Enunciado\n",
    "Clase que proporciona métodos para visualizar datos en un DataFrame. Las visualizaciones incluyen la curva ROC con AUC, matriz de correlación/información mutua, histograma de entropía de variables categóricas y diagramas de caja para características continuas.\n",
    "\n",
    "### Métodos Implementados\n",
    "\n",
    "---\n",
    "\n",
    "##### `__init__(dataframe: DataFrame, correlacion: Correlacion = None)`\n",
    "**Descripción:** Constructor que inicializa el visualizador de datos con un DataFrame y, opcionalmente, con una calculadora de correlación.\n",
    "\n",
    "**Definición:**\n",
    "```python\n",
    "__init__(dataframe: DataFrame, correlacion: Correlacion = None)\n",
    "'''\n",
    "Constructor que inicializa el visualizador de datos con un DataFrame, una calculadora de correlación y una calculadora de métricas.\n",
    "Parámetros:\n",
    "    dataframe: (DataFrame) DataFrame con los datos.\n",
    "    correlacion: (Correlacion, opcional) Instancia para calcular correlaciones.\n",
    "'''\n",
    "```\n",
    "**Ejemplo de uso:**"
   ]
  },
  {
   "cell_type": "code",
   "execution_count": 128,
   "metadata": {},
   "outputs": [],
   "source": [
    "from dataframe import DataFrame\n",
    "from correlation import Correlacion\n",
    "from visualization import VisualizadorDatos\n",
    "\n",
    "# Inicializar el visualizador de datos\n",
    "df = DataFrame({\n",
    "    'edad': [23, 45, 31, 22, 35],\n",
    "    'ingreso': [30000, 50000, 70000, 100000, 120000],\n",
    "    'compra': [1, 0, 1, 0, 1]\n",
    "})\n",
    "correlacion = Correlacion(df)\n",
    "visualizador = VisualizadorDatos(df, correlacion)"
   ]
  },
  {
   "cell_type": "markdown",
   "metadata": {},
   "source": [
    "##### `graficar_auc(columna_predictora: str, columna_clase: str) -> None`\n",
    "**Descripción:** Grafica la curva ROC y calcula el AUC para una columna predictora en relación con una columna de clase binaria.\n",
    "\n",
    "**Definición:**\n",
    "```python\n",
    "graficar_auc(columna_predictora: str, columna_clase: str) -> None\n",
    "'''\n",
    "Método para graficar la curva ROC y calcular el AUC.\n",
    "Parámetros:\n",
    "    columna_predictora: (str) Nombre de la columna con los valores del predictor.\n",
    "    columna_clase: (str) Nombre de la columna con los valores de la clase binaria.\n",
    "Retorno:\n",
    "    None\n",
    "'''\n",
    "```\n",
    "**Ejemplo de uso:**"
   ]
  },
  {
   "cell_type": "code",
   "execution_count": 129,
   "metadata": {},
   "outputs": [
    {
     "data": {
      "image/png": "[encoded data removed]",
      "text/plain": [
       "<Figure size 640x480 with 1 Axes>"
      ]
     },
     "metadata": {},
     "output_type": "display_data"
    }
   ],
   "source": [
    "visualizador.graficar_auc('ingreso', 'compra')"
   ]
  },
  {
   "cell_type": "markdown",
   "metadata": {},
   "source": [
    "##### `graficar_matriz_correlacion() -> None`\n",
    "**Descripción:** Grafica de la matriz de correlación o de información mutua entre columnas.\n",
    "\n",
    "**Definición:**\n",
    "```python\n",
    "graficar_matriz_correlacion() -> None\n",
    "'''\n",
    "Método para graficar la matriz de correlación o de información mutua entre columnas.\n",
    "Retorno:\n",
    "    None\n",
    "'''\n",
    "```\n",
    "**Ejemplo de uso:**"
   ]
  },
  {
   "cell_type": "code",
   "execution_count": 130,
   "metadata": {},
   "outputs": [
    {
     "data": {
      "image/png": "[encoded data removed]",
      "text/plain": [
       "<Figure size 640x480 with 2 Axes>"
      ]
     },
     "metadata": {},
     "output_type": "display_data"
    }
   ],
   "source": [
    "df = DataFrame({\n",
    "    'edad': [23, 45, 31, 22, 35],\n",
    "    'ingreso': [30000, 50000, 70000, 100000, 120000],\n",
    "    'compra': [1, 0, 1, 0, 1],\n",
    "    'categoria': [1, 1, 2, 2, 3]\n",
    "})\n",
    "calculadora_correlacion = Correlacion(df)\n",
    "visualizador = VisualizadorDatos(df, calculadora_correlacion)\n",
    "visualizador.graficar_matriz_correlacion()"
   ]
  },
  {
   "cell_type": "markdown",
   "metadata": {},
   "source": [
    "##### `graficar_histograma_entropia() -> None`\n",
    "**Descripción:** Grafica un histograma de entropía de las variables categóricas en el DataFrame.\n",
    "\n",
    "**Definición:**\n",
    "```python\n",
    "graficar_histograma_entropia() -> None\n",
    "'''\n",
    "Método para graficar un histograma de entropía de variables categóricas en el DataFrame.\n",
    "Retorno:\n",
    "    None\n",
    "'''\n",
    "```\n",
    "**Ejemplo de uso:**"
   ]
  },
  {
   "cell_type": "code",
   "execution_count": 131,
   "metadata": {},
   "outputs": [
    {
     "data": {
      "image/png": "[encoded data removed]",
      "text/plain": [
       "<Figure size 640x480 with 1 Axes>"
      ]
     },
     "metadata": {},
     "output_type": "display_data"
    }
   ],
   "source": [
    "df = DataFrame({\n",
    "    'categoria': ['A', 'B', 'A', 'A', 'C'],\n",
    "    'compra': [1, 0, 1, 0, 1],\n",
    "    'color': ['rojo', 'azul', 'rojo', 'verde', 'azul']\n",
    "})\n",
    "visualizador = VisualizadorDatos(df)\n",
    "visualizador.graficar_histograma_entropia()"
   ]
  },
  {
   "cell_type": "markdown",
   "metadata": {},
   "source": [
    "##### `graficar_diagramas_caja_caracteristicas(estandarizado: bool = True) -> None`\n",
    "**Descripción:** Grafica diagramas de caja de características continuas en el DataFrame, con la opción de estandarizarlas previamente.\n",
    "\n",
    "**Definición:**\n",
    "```python\n",
    "graficar_diagramas_caja_caracteristicas(estandarizado: bool = True) -> None\n",
    "'''\n",
    "Método para graficar diagramas de caja de características continuas en el DataFrame.\n",
    "Parámetros:\n",
    "    estandarizado: (bool) Indica si las características deben ser estandarizadas antes de graficar.\n",
    "Retorno:\n",
    "    None\n",
    "'''\n",
    "```\n",
    "**Ejemplo de uso:**"
   ]
  },
  {
   "cell_type": "code",
   "execution_count": 132,
   "metadata": {},
   "outputs": [
    {
     "data": {
      "image/png": "[encoded data removed]",
      "text/plain": [
       "<Figure size 640x480 with 1 Axes>"
      ]
     },
     "metadata": {},
     "output_type": "display_data"
    }
   ],
   "source": [
    "df = DataFrame({\n",
    "    'edad': [23, 45, 31, 22, 35],\n",
    "    'ingreso': [30000, 50000, 70000, 100000, 120000],\n",
    "    'puntaje': [80, 90, 85, 88, 92]\n",
    "})\n",
    "visualizador = VisualizadorDatos(df)\n",
    "visualizador.graficar_diagramas_caja_caracteristicas(estandarizado=True)\n",
    "\n"
   ]
  },
  {
   "cell_type": "code",
   "execution_count": 133,
   "metadata": {},
   "outputs": [
    {
     "data": {
      "image/png": "[encoded data removed]",
      "text/plain": [
       "<Figure size 640x480 with 1 Axes>"
      ]
     },
     "metadata": {},
     "output_type": "display_data"
    }
   ],
   "source": [
    "df = DataFrame({\n",
    "    'edad': [23, 45, 31, 22, 35],\n",
    "    'ingreso': [30000, 50000, 70000, 100000, 120000],\n",
    "    'puntaje': [80, 90, 85, 88, 92]\n",
    "})\n",
    "visualizador = VisualizadorDatos(df)\n",
    "visualizador.graficar_diagramas_caja_caracteristicas(estandarizado=False)"
   ]
  }
 ],
 "metadata": {
  "kernelspec": {
   "display_name": "base",
   "language": "python",
   "name": "python3"
  },
  "language_info": {
   "codemirror_mode": {
    "name": "ipython",
    "version": 3
   },
   "file_extension": ".py",
   "mimetype": "text/x-python",
   "name": "python",
   "nbconvert_exporter": "python",
   "pygments_lexer": "ipython3",
   "version": "3.12.2"
  }
 },
 "nbformat": 4,
 "nbformat_minor": 2
}
